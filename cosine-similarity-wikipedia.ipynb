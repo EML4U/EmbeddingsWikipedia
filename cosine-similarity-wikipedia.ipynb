{
 "cells": [
  {
   "cell_type": "code",
   "execution_count": 1,
   "metadata": {},
   "outputs": [
    {
     "name": "stdout",
     "output_type": "stream",
     "text": [
      "numpy:   1.19.2\n",
      "sklearn: 0.23.2\n"
     ]
    }
   ],
   "source": [
    "import numpy\n",
    "print(\"numpy:   \" + numpy.version.version)\n",
    "\n",
    "import sklearn\n",
    "import sklearn.metrics\n",
    "print(\"sklearn: \" + sklearn.__version__)"
   ]
  },
  {
   "cell_type": "code",
   "execution_count": 2,
   "metadata": {},
   "outputs": [],
   "source": [
    "embeddingsDir = \"/home/eml4u/EML4U/data/interim-results/\"\n",
    "\n",
    "idAmericanA = \"20100408-american-films\"\n",
    "idAmericanB = \"20201101-american-films\"\n",
    "idBritishA = \"20100408-british-films\"\n",
    "idBritishB = \"20201101-british-films\"\n",
    "idIndianA = \"20100408-indian-films\"\n",
    "idIndianB = \"20201101-indian-films\""
   ]
  },
  {
   "cell_type": "code",
   "execution_count": 3,
   "metadata": {},
   "outputs": [
    {
     "name": "stdout",
     "output_type": "stream",
     "text": [
      "/home/eml4u/EML4U/data/interim-results/20100408-american-films.txt\n",
      "/home/eml4u/EML4U/data/interim-results/20201101-american-films.txt\n",
      "/home/eml4u/EML4U/data/interim-results/20100408-british-films.txt\n",
      "/home/eml4u/EML4U/data/interim-results/20201101-british-films.txt\n",
      "/home/eml4u/EML4U/data/interim-results/20100408-indian-films.txt\n",
      "/home/eml4u/EML4U/data/interim-results/20201101-indian-films.txt\n"
     ]
    }
   ],
   "source": [
    "# Load text files\n",
    "def getTextfile(dir, id, printfile = True):\n",
    "    file = dir + id + \".txt\"\n",
    "    if printfile:\n",
    "        print(file)\n",
    "    return file\n",
    "\n",
    "fileEmbeddingsAmericanA = getTextfile(embeddingsDir, idAmericanA)\n",
    "fileEmbeddingsAmericanB = getTextfile(embeddingsDir, idAmericanB)\n",
    "fileEmbeddingsBritishA  = getTextfile(embeddingsDir, idBritishA)\n",
    "fileEmbeddingsBritishB  = getTextfile(embeddingsDir, idBritishB)\n",
    "fileEmbeddingsIndianA  = getTextfile(embeddingsDir, idIndianA)\n",
    "fileEmbeddingsIndianB  = getTextfile(embeddingsDir, idIndianB)"
   ]
  },
  {
   "cell_type": "code",
   "execution_count": 4,
   "metadata": {},
   "outputs": [
    {
     "name": "stdout",
     "output_type": "stream",
     "text": [
      "(1000, 768) AmericanA\n",
      "(1000, 768) AmericanB\n",
      "(2147, 768) BritishA\n",
      "(2147, 768) BritishB\n",
      "(3596, 768) IndianA\n",
      "(3596, 768) IndianB\n"
     ]
    }
   ],
   "source": [
    "# Load embeddings\n",
    "def loadEmbeddings(file, note = \"\", printinfo = True):\n",
    "    embeddings = numpy.loadtxt(file)\n",
    "    if printinfo:\n",
    "        print(str(embeddings.shape) + \" \" + note)\n",
    "    return embeddings\n",
    "\n",
    "embeddingsAmericanA = loadEmbeddings(fileEmbeddingsAmericanA, \"AmericanA\")\n",
    "embeddingsAmericanB = loadEmbeddings(fileEmbeddingsAmericanB, \"AmericanB\")\n",
    "embeddingsBritishA  = loadEmbeddings(fileEmbeddingsBritishA, \"BritishA\")\n",
    "embeddingsBritishB  = loadEmbeddings(fileEmbeddingsBritishB, \"BritishB\")\n",
    "embeddingsIndianA  = loadEmbeddings(fileEmbeddingsIndianA, \"IndianA\")\n",
    "embeddingsIndianB  = loadEmbeddings(fileEmbeddingsIndianB, \"IndianB\")"
   ]
  },
  {
   "cell_type": "code",
   "execution_count": 5,
   "metadata": {},
   "outputs": [
    {
     "name": "stdout",
     "output_type": "stream",
     "text": [
      "(1, 768) AmericanA\n",
      "(1, 768) AmericanB\n",
      "(1, 768) BritishA\n",
      "(1, 768) BritishB\n",
      "(1, 768) IndianA\n",
      "(1, 768) IndianB\n"
     ]
    }
   ],
   "source": [
    "# Compute mean\n",
    "# https://numpy.org/doc/1.19/reference/generated/numpy.mean.html?highlight=mean#numpy.mean\n",
    "# https://numpy.org/doc/1.19/reference/generated/numpy.reshape.html?highlight=reshape#numpy.reshape\n",
    "def getMean(embeddings, dimension, note = \"\", printinfo = True):\n",
    "    mean = numpy.mean(embeddings, axis=0)\n",
    "    reshaped = mean.reshape(1, dimension)\n",
    "    if printinfo:\n",
    "        #print(str(mean.shape) + \" \" + note)\n",
    "        print(str(reshaped.shape) + \" \" + note)\n",
    "    return embeddings\n",
    "\n",
    "meanAmericanA = getMean(embeddingsAmericanA, 768, \"AmericanA\")\n",
    "meanAmericanB = getMean(embeddingsAmericanB, 768, \"AmericanB\")\n",
    "meanBritishA  = getMean(embeddingsBritishA, 768, \"BritishA\")\n",
    "meanBritishB  = getMean(embeddingsBritishB, 768, \"BritishB\")\n",
    "meanIndianA  = getMean(embeddingsIndianA, 768, \"IndianA\")\n",
    "meanIndianB  = getMean(embeddingsIndianB, 768, \"IndianB\")"
   ]
  },
  {
   "cell_type": "code",
   "execution_count": 6,
   "metadata": {},
   "outputs": [
    {
     "name": "stdout",
     "output_type": "stream",
     "text": [
      "0.9470747593129083 American\n",
      "0.9422465618828457 British\n",
      "0.931203987093214 Indian\n",
      "\n"
     ]
    }
   ],
   "source": [
    "# Cosine similarity\n",
    "# https://scikit-learn.org/0.23/modules/generated/sklearn.metrics.pairwise.cosine_similarity.html#sklearn.metrics.pairwise.cosine_similarity\n",
    "def getPairwiseCosineSimilarity(a, b, note = \"\", printinfo = True):\n",
    "    cosSim = sklearn.metrics.pairwise.cosine_similarity(a.reshape(1, -1), b.reshape(1, -1), dense_output=True)[0][0]\n",
    "    if printinfo:\n",
    "        print(str(cosSim) + \" \" + note)\n",
    "    return cosSim\n",
    "\n",
    "getPairwiseCosineSimilarity(meanAmericanA, meanAmericanB, \"American\")\n",
    "getPairwiseCosineSimilarity(meanBritishA, meanBritishB, \"British\")\n",
    "getPairwiseCosineSimilarity(meanIndianA, meanIndianB, \"Indian\")\n",
    "print()"
   ]
  },
  {
   "cell_type": "code",
   "execution_count": 7,
   "metadata": {},
   "outputs": [
    {
     "name": "stdout",
     "output_type": "stream",
     "text": [
      "0.9525117010449139 American 0\n",
      "0.9715444013842313 American 1\n",
      "0.9724710753091028 American 10\n",
      "0.9772824870224932 American 100\n",
      "0.9393622073417478 American 500\n",
      "0.9867714675621426 American 600\n",
      "\n",
      "0.9618288510169046 British 0\n",
      "0.9325135174538641 British 1\n",
      "0.9473581782691437 British 10\n",
      "0.9680476495788866 British 100\n",
      "0.9310833202893275 British 500\n",
      "0.8651356315148098 British 600\n",
      "\n",
      "0.9760882993008546 Indian 0\n",
      "0.9805102425307188 Indian 1\n",
      "0.7447943708902642 Indian 10\n",
      "0.6380358748619926 Indian 100\n",
      "0.8617119348355946 Indian 500\n",
      "0.8981347803389674 Indian 600\n",
      "\n"
     ]
    }
   ],
   "source": [
    "# Cosine similarity single\n",
    "def getCosineSimilarity(a, b, indexA, indexB, note = \"\", printinfo = True):\n",
    "    cosSim = sklearn.metrics.pairwise.cosine_similarity(a[indexA].reshape(1, -1), b[indexB].reshape(1, -1), dense_output=True)[0][0]\n",
    "    if printinfo:\n",
    "        print(str(cosSim) + \" \" + note)\n",
    "    return cosSim\n",
    "\n",
    "getCosineSimilarity(embeddingsAmericanA, embeddingsAmericanB, 0, 0, \"American 0\")\n",
    "getCosineSimilarity(embeddingsAmericanA, embeddingsAmericanB, 1, 1, \"American 1\")\n",
    "getCosineSimilarity(embeddingsAmericanA, embeddingsAmericanB, 10, 10, \"American 10\")\n",
    "getCosineSimilarity(embeddingsAmericanA, embeddingsAmericanB, 100, 100, \"American 100\")\n",
    "getCosineSimilarity(embeddingsAmericanA, embeddingsAmericanB, 500, 500, \"American 500\")\n",
    "getCosineSimilarity(embeddingsAmericanA, embeddingsAmericanB, 600, 600, \"American 600\")\n",
    "print()\n",
    "getCosineSimilarity(embeddingsBritishA, embeddingsBritishB, 0, 0, \"British 0\")\n",
    "getCosineSimilarity(embeddingsBritishA, embeddingsBritishB, 1, 1, \"British 1\")\n",
    "getCosineSimilarity(embeddingsBritishA, embeddingsBritishB, 10, 10, \"British 10\")\n",
    "getCosineSimilarity(embeddingsBritishA, embeddingsBritishB, 100, 100, \"British 100\")\n",
    "getCosineSimilarity(embeddingsBritishA, embeddingsBritishB, 500, 500, \"British 500\")\n",
    "getCosineSimilarity(embeddingsBritishA, embeddingsBritishB, 600, 600, \"British 600\")\n",
    "print()\n",
    "getCosineSimilarity(embeddingsIndianA, embeddingsIndianB, 0, 0, \"Indian 0\")\n",
    "getCosineSimilarity(embeddingsIndianA, embeddingsIndianB, 1, 1, \"Indian 1\")\n",
    "getCosineSimilarity(embeddingsIndianA, embeddingsIndianB, 10, 10, \"Indian 10\")\n",
    "getCosineSimilarity(embeddingsIndianA, embeddingsIndianB, 100, 100, \"Indian 100\")\n",
    "getCosineSimilarity(embeddingsIndianA, embeddingsIndianB, 500, 500, \"Indian 500\")\n",
    "getCosineSimilarity(embeddingsIndianA, embeddingsIndianB, 600, 600, \"Indian 600\")\n",
    "print()"
   ]
  },
  {
   "cell_type": "code",
   "execution_count": 8,
   "metadata": {},
   "outputs": [
    {
     "name": "stdout",
     "output_type": "stream",
     "text": [
      "<class 'numpy.ndarray'>\n",
      "(1000, 768)\n",
      "(3, 768)\n",
      "(3, 768)\n",
      "\n",
      "0.9525117010449139 test 0\n",
      "0.9715444013842313 test 1\n",
      "0.9286622417569126 test 2\n",
      "\n",
      "(1, 768) testA\n",
      "(1, 768) testB\n",
      "0.9513856700392087 test\n",
      "0.9509061147286859\n",
      "TODO\n"
     ]
    }
   ],
   "source": [
    "print(type(embeddingsAmericanA))\n",
    "print(embeddingsAmericanA.shape)\n",
    "\n",
    "testEmbeddingsA = embeddingsAmericanA[:3]\n",
    "#print(type(testEmbeddingsA))\n",
    "print(testEmbeddingsA.shape)\n",
    "\n",
    "testEmbeddingsB = embeddingsAmericanB[:3]\n",
    "#print(type(testEmbeddingsB))\n",
    "print(testEmbeddingsB.shape)\n",
    "print()\n",
    "\n",
    "x1 = getCosineSimilarity(testEmbeddingsA, testEmbeddingsB, 0, 0, \"test 0\")\n",
    "x2 = getCosineSimilarity(testEmbeddingsA, testEmbeddingsB, 1, 1, \"test 1\")\n",
    "x3 = getCosineSimilarity(testEmbeddingsA, testEmbeddingsB, 2, 2, \"test 2\")\n",
    "print()\n",
    "\n",
    "meanTestA = getMean(testEmbeddingsA, 768, \"testA\")\n",
    "meanTestB = getMean(testEmbeddingsB, 768, \"testB\")\n",
    "result = getPairwiseCosineSimilarity(meanTestA, meanTestB, \"test\")\n",
    "expected = (x1 + x2 + x3) / 3\n",
    "print(expected)\n",
    "\n",
    "if expected != result:\n",
    "    print(\"TODO\")"
   ]
  },
  {
   "cell_type": "code",
   "execution_count": null,
   "metadata": {},
   "outputs": [],
   "source": []
  }
 ],
 "metadata": {
  "kernelspec": {
   "display_name": "Python (EML4U)",
   "language": "python",
   "name": "eml4u"
  },
  "language_info": {
   "codemirror_mode": {
    "name": "ipython",
    "version": 3
   },
   "file_extension": ".py",
   "mimetype": "text/x-python",
   "name": "python",
   "nbconvert_exporter": "python",
   "pygments_lexer": "ipython3",
   "version": "3.8.5"
  }
 },
 "nbformat": 4,
 "nbformat_minor": 4
}
