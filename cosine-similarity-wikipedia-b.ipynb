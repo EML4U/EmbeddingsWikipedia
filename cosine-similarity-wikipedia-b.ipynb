{
 "cells": [
  {
   "cell_type": "markdown",
   "metadata": {},
   "source": [
    "# Cosine Similarity - Approach B\n",
    "\n",
    "- Loads embeddings (pre-computed from texts)\n",
    "- Computes **mean of embedding**-arrays\n",
    "- Computes **cosine-similarity of embedding-means** of two points of time\n",
    "- ..."
   ]
  },
  {
   "cell_type": "code",
   "execution_count": 1,
   "metadata": {},
   "outputs": [
    {
     "name": "stdout",
     "output_type": "stream",
     "text": [
      "numpy:   1.19.2\n"
     ]
    }
   ],
   "source": [
    "import numpy\n",
    "print(\"numpy:   \" + numpy.version.version)"
   ]
  },
  {
   "cell_type": "code",
   "execution_count": 2,
   "metadata": {},
   "outputs": [],
   "source": [
    "# https://hobbitdata.informatik.uni-leipzig.de/EML4U/2021-02-10-Wikipedia-Texts/\n",
    "source_texts_directory = \"/home/eml4u/EML4U/data/corpus/2021-02-10-wikipedia-texts/\"\n",
    "# https://hobbitdata.informatik.uni-leipzig.de/EML4U/2021-04-07-Wikipedia-Embeddings/\n",
    "embeddings_directory  = \"/home/eml4u/EML4U/data/wikipedia-embeddings/\"\n",
    "\n",
    "# points of time\n",
    "id_a = \"20100408\"\n",
    "id_b = \"20201101\"\n",
    "# category ids\n",
    "id_american = \"american-films\"\n",
    "id_british  = \"british-films\"\n",
    "id_indian   = \"indian-films\"\n",
    "# file ids\n",
    "id_american_a = id_a + \"-\" + id_american\n",
    "id_american_b = id_b + \"-\" + id_american\n",
    "id_british_a  = id_a + \"-\" + id_british\n",
    "id_british_b  = id_b + \"-\" + id_british\n",
    "id_indian_a   = id_a + \"-\" + id_indian\n",
    "id_indian_b   = id_b + \"-\" + id_indian"
   ]
  },
  {
   "cell_type": "code",
   "execution_count": 3,
   "metadata": {},
   "outputs": [],
   "source": [
    "# Class instance to access data (wp texts, pre-computed embeddings)\n",
    "import data_access\n",
    "data_accessor = data_access.DataAccess(source_texts_directory, embeddings_directory)"
   ]
  },
  {
   "cell_type": "code",
   "execution_count": 4,
   "metadata": {},
   "outputs": [],
   "source": [
    "# Compute means\n",
    "def getMean(embeddings, note = \"\", printinfo = True):\n",
    "    mean = numpy.mean(embeddings, axis=0)\n",
    "    if printinfo:\n",
    "        print(str(type(mean)) + \" \" + str(mean.shape) + \" \" +  note)\n",
    "    return mean"
   ]
  },
  {
   "cell_type": "code",
   "execution_count": 5,
   "metadata": {},
   "outputs": [],
   "source": [
    "# Differences of arrays as one value\n",
    "def differenceValue(a, b):\n",
    "    x = 0\n",
    "    for i in range(len(a)):\n",
    "        x += abs(a[i] - b[i])\n",
    "    return x;\n",
    "\n",
    "# Test\n",
    "if False:\n",
    "    print(differenceValue(numpy.array([1,2,3,4]), numpy.array([1.1,2.2,3.3,4.4])))"
   ]
  },
  {
   "cell_type": "code",
   "execution_count": 6,
   "metadata": {},
   "outputs": [
    {
     "name": "stdout",
     "output_type": "stream",
     "text": [
      "/home/eml4u/EML4U/data/wikipedia-embeddings/20100408-british-films.txt\n",
      "(2147, 768) <class 'numpy.ndarray'>\n",
      "/home/eml4u/EML4U/data/wikipedia-embeddings/20201101-british-films.txt\n",
      "(2147, 768) <class 'numpy.ndarray'>\n",
      "<class 'numpy.ndarray'> (768,) BritishA\n",
      "<class 'numpy.ndarray'> (768,) BritishB\n"
     ]
    }
   ],
   "source": [
    "# Load embeddings\n",
    "embeddingsBritishA = data_accessor.load_embeddings(id_british_a)\n",
    "embeddingsBritishB = data_accessor.load_embeddings(id_british_b)\n",
    "\n",
    "# Compute means\n",
    "meanBritishA  = getMean(embeddingsBritishA, \"BritishA\")\n",
    "meanBritishB  = getMean(embeddingsBritishB, \"BritishB\")"
   ]
  },
  {
   "cell_type": "code",
   "execution_count": 7,
   "metadata": {},
   "outputs": [],
   "source": [
    "# Compute differences\n",
    "# Array (index, difference to mean t1, difference to mean t2)\n",
    "differences = []\n",
    "for i in range(len(meanBritishA)):\n",
    "    differences.append((i, differenceValue(meanBritishA, embeddingsBritishA[i]), differenceValue(meanBritishB, embeddingsBritishB[i])))\n",
    "\n",
    "# Sort by differences\n",
    "# Arrays (index, difference to mean t1, difference to mean t2)\n",
    "# Sorted by similarity to A / t1\n",
    "differencesA = sorted(differences, key=lambda tup: tup[1])\n",
    "# Sorted by similarity to B / t2\n",
    "differencesB = sorted(differences, key=lambda tup: tup[2])"
   ]
  },
  {
   "cell_type": "code",
   "execution_count": 8,
   "metadata": {},
   "outputs": [
    {
     "name": "stdout",
     "output_type": "stream",
     "text": [
      "(721, 127.63656949018497, 63.07215986661895)\n",
      "(333, 126.23330120916125, 126.63447396310393)\n",
      "\n",
      "(179, 114.6978323360855, 131.07256570494872)\n",
      "(680, 122.11133584967376, 129.0560627009414)\n"
     ]
    }
   ],
   "source": [
    "# Print largest differences\n",
    "if True:\n",
    "    print(differencesA[len(differencesA) - 1])\n",
    "    print(differencesA[len(differencesA) - 2])\n",
    "    print()\n",
    "    print(differencesB[len(differencesB) - 1])\n",
    "    print(differencesB[len(differencesB) - 2])"
   ]
  },
  {
   "cell_type": "code",
   "execution_count": null,
   "metadata": {},
   "outputs": [],
   "source": []
  }
 ],
 "metadata": {
  "kernelspec": {
   "display_name": "Python (EML4U)",
   "language": "python",
   "name": "eml4u"
  },
  "language_info": {
   "codemirror_mode": {
    "name": "ipython",
    "version": 3
   },
   "file_extension": ".py",
   "mimetype": "text/x-python",
   "name": "python",
   "nbconvert_exporter": "python",
   "pygments_lexer": "ipython3",
   "version": "3.8.5"
  }
 },
 "nbformat": 4,
 "nbformat_minor": 4
}

