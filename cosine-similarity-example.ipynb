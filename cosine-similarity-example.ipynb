{
 "cells": [
  {
   "cell_type": "code",
   "execution_count": null,
   "metadata": {},
   "outputs": [],
   "source": [
    "# Check installation\n",
    "# https://jakevdp.github.io/blog/2017/12/05/installing-python-packages-from-jupyter/\n",
    "#!type -a python\n",
    "#!type -a conda\n",
    "#!type -a pip"
   ]
  },
  {
   "cell_type": "code",
   "execution_count": null,
   "metadata": {},
   "outputs": [],
   "source": [
    "# Installation\n",
    "# https://stackoverflow.com/a/1472014"
   ]
  },
  {
   "cell_type": "code",
   "execution_count": null,
   "metadata": {},
   "outputs": [],
   "source": [
    "#pip install ."
   ]
  },
  {
   "cell_type": "code",
   "execution_count": null,
   "metadata": {},
   "outputs": [],
   "source": [
    "# The installation was finalized by local conda commands.\n",
    "# requirements.txt does not contain all required packages."
   ]
  },
  {
   "cell_type": "code",
   "execution_count": null,
   "metadata": {},
   "outputs": [],
   "source": [
    "import sys\n",
    "import os\n",
    "\n",
    "import numpy as np\n",
    "\n",
    "import sklearn\n",
    "import sklearn.metrics\n",
    "#import sklearsklearn.metrics.pairwise\n",
    "\n",
    "sys.path.append(os.path.abspath('/home/eml4u/EML4U/notebooks/wilke'))\n",
    "from embedding import BertHuggingface"
   ]
  },
  {
   "cell_type": "code",
   "execution_count": null,
   "metadata": {},
   "outputs": [],
   "source": [
    "# From examples/huggingface_basic.py\n",
    "\n",
    "# Variables\n",
    "NUM_CLASSES = 8 # irrelevant if you dont want to retrain\n",
    "sentences = [\n",
    "    \"Hello, this is a test for the Huggingface Bert.\",\n",
    "    \"Did you know the Huggingface library was named after the smiley?\",\n",
    "    \"Hello, this is a test the Huggingface Bert.\",    \n",
    "]\n",
    "\n",
    "# embedding\n",
    "bert = BertHuggingface(NUM_CLASSES)\n",
    "embeddings = bert.embed(sentences)\n",
    "\n",
    "print(\"Shape of the embeddings:\", embeddings.shape)"
   ]
  },
  {
   "cell_type": "code",
   "execution_count": null,
   "metadata": {},
   "outputs": [],
   "source": [
    "np.mean(embeddings, axis=0).reshape(1, 768).shape"
   ]
  },
  {
   "cell_type": "code",
   "execution_count": null,
   "metadata": {},
   "outputs": [],
   "source": [
    "sklearn.metrics.pairwise.cosine_similarity(embeddings[0].reshape(1, -1), embeddings[2].reshape(1, -1), dense_output=True)"
   ]
  },
  {
   "cell_type": "code",
   "execution_count": null,
   "metadata": {},
   "outputs": [],
   "source": []
  }
 ],
 "metadata": {
  "kernelspec": {
   "display_name": "Python (EML4U)",
   "language": "python",
   "name": "eml4u"
  },
  "language_info": {
   "codemirror_mode": {
    "name": "ipython",
    "version": 3
   },
   "file_extension": ".py",
   "mimetype": "text/x-python",
   "name": "python",
   "nbconvert_exporter": "python",
   "pygments_lexer": "ipython3",
   "version": "3.8.5"
  }
 },
 "nbformat": 4,
 "nbformat_minor": 4
}

